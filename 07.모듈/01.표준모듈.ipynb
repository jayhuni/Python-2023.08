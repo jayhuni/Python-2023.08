{
 "cells": [
  {
   "cell_type": "markdown",
   "metadata": {},
   "source": [
    "## 7. 모듈\n",
    "### 7.1 표준 모듈"
   ]
  },
  {
   "cell_type": "markdown",
   "metadata": {},
   "source": [
    "- math 모듈"
   ]
  },
  {
   "cell_type": "code",
   "execution_count": 1,
   "metadata": {},
   "outputs": [
    {
     "data": {
      "text/plain": [
       "3.141592653589793"
      ]
     },
     "execution_count": 1,
     "metadata": {},
     "output_type": "execute_result"
    }
   ],
   "source": [
    "import math\n",
    "math.pi"
   ]
  },
  {
   "cell_type": "code",
   "execution_count": 2,
   "metadata": {},
   "outputs": [
    {
     "data": {
      "text/plain": [
       "(1.0, 6.123233995736766e-17)"
      ]
     },
     "execution_count": 2,
     "metadata": {},
     "output_type": "execute_result"
    }
   ],
   "source": [
    "# 90도 일때 (pi / 2) 사인, 코사인의 값\n",
    "math.sin(math.pi/2), math.cos(math.pi/2)"
   ]
  },
  {
   "cell_type": "code",
   "execution_count": 3,
   "metadata": {},
   "outputs": [
    {
     "data": {
      "text/plain": [
       "(1.0, 6.123233995736766e-17)"
      ]
     },
     "execution_count": 3,
     "metadata": {},
     "output_type": "execute_result"
    }
   ],
   "source": [
    "from math import sin, cos, pi\n",
    "sin(pi / 2), cos(pi / 2)"
   ]
  },
  {
   "cell_type": "code",
   "execution_count": 4,
   "metadata": {},
   "outputs": [
    {
     "data": {
      "text/plain": [
       "(1.0, 6.123233995736766e-17)"
      ]
     },
     "execution_count": 4,
     "metadata": {},
     "output_type": "execute_result"
    }
   ],
   "source": [
    "import math as m\n",
    "m.sin(m.pi/2), m.cos(m.pi/2)"
   ]
  },
  {
   "cell_type": "markdown",
   "metadata": {},
   "source": [
    "- random 모듈"
   ]
  },
  {
   "cell_type": "code",
   "execution_count": 5,
   "metadata": {},
   "outputs": [
    {
     "data": {
      "text/plain": [
       "(0.6816589145356694, 6)"
      ]
     },
     "execution_count": 5,
     "metadata": {},
     "output_type": "execute_result"
    }
   ],
   "source": [
    "import random as rd\n",
    "rd.random(), rd.randint(1, 6)"
   ]
  },
  {
   "cell_type": "code",
   "execution_count": 6,
   "metadata": {},
   "outputs": [
    {
     "data": {
      "text/plain": [
       "16.213114603733672"
      ]
     },
     "execution_count": 6,
     "metadata": {},
     "output_type": "execute_result"
    }
   ],
   "source": [
    "# [start, end)까지 실수 반환\n",
    "rd.uniform(11, 20),"
   ]
  },
  {
   "cell_type": "code",
   "execution_count": 7,
   "metadata": {},
   "outputs": [
    {
     "data": {
      "text/plain": [
       "(4, 3)"
      ]
     },
     "execution_count": 7,
     "metadata": {},
     "output_type": "execute_result"
    }
   ],
   "source": [
    "# range() 범위에서 하나의 수 반환\n",
    "rd.randrange(10), rd.randrange(1, 7)"
   ]
  },
  {
   "cell_type": "code",
   "execution_count": 8,
   "metadata": {},
   "outputs": [
    {
     "data": {
      "text/plain": [
       "(4, [4, 1, 5])"
      ]
     },
     "execution_count": 8,
     "metadata": {},
     "output_type": "execute_result"
    }
   ],
   "source": [
    "a = [1, 2, 3, 4, 5]\n",
    "rd.choice(a), rd.sample(a, 3)"
   ]
  },
  {
   "cell_type": "code",
   "execution_count": 9,
   "metadata": {},
   "outputs": [
    {
     "data": {
      "text/plain": [
       "[3, 1, 2, 5, 4]"
      ]
     },
     "execution_count": 9,
     "metadata": {},
     "output_type": "execute_result"
    }
   ],
   "source": [
    "rd.shuffle(a)\n",
    "a"
   ]
  },
  {
   "cell_type": "markdown",
   "metadata": {},
   "source": [
    "- os 모듈"
   ]
  },
  {
   "cell_type": "code",
   "execution_count": 10,
   "metadata": {},
   "outputs": [
    {
     "data": {
      "text/plain": [
       "'nt'"
      ]
     },
     "execution_count": 10,
     "metadata": {},
     "output_type": "execute_result"
    }
   ],
   "source": [
    "import os\n",
    "os.name"
   ]
  },
  {
   "cell_type": "code",
   "execution_count": 12,
   "metadata": {},
   "outputs": [
    {
     "data": {
      "text/plain": [
       "'d:\\\\WorkspaceSJH\\\\01.Python\\\\07.모듈'"
      ]
     },
     "execution_count": 12,
     "metadata": {},
     "output_type": "execute_result"
    }
   ],
   "source": [
    "# 현재 작업 디렉토리 (Curren Working Directory)\n",
    "os.getcwd()"
   ]
  },
  {
   "cell_type": "code",
   "execution_count": 17,
   "metadata": {},
   "outputs": [
    {
     "data": {
      "text/plain": [
       "['01.표준모듈.ipynb', 'test', 'test_pakage']"
      ]
     },
     "execution_count": 17,
     "metadata": {},
     "output_type": "execute_result"
    }
   ],
   "source": [
    "# 현재 디렉토리에 있는 파일과 디렉토리 요소\n",
    "os.listdir()"
   ]
  },
  {
   "cell_type": "code",
   "execution_count": 16,
   "metadata": {},
   "outputs": [
    {
     "data": {
      "text/plain": [
       "['01.표준모듈.ipynb', 'test', 'test_pakage']"
      ]
     },
     "execution_count": 16,
     "metadata": {},
     "output_type": "execute_result"
    }
   ],
   "source": [
    "# 현 디렉토리에 test 디렉토리가 없으면 생성\n",
    "dir_name = 'test'\n",
    "if not os.path.exists(dir_name):\n",
    "    os.mkdir(dir_name)\n",
    "os.listdir()"
   ]
  },
  {
   "cell_type": "code",
   "execution_count": 18,
   "metadata": {},
   "outputs": [
    {
     "data": {
      "text/plain": [
       "['01.표준모듈.ipynb', 'test_pakage']"
      ]
     },
     "execution_count": 18,
     "metadata": {},
     "output_type": "execute_result"
    }
   ],
   "source": [
    "# 디렉토리 삭제\n",
    "if os.path.exists(dir_name):\n",
    "    os.rmdir(dir_name)\n",
    "os.listdir()"
   ]
  },
  {
   "cell_type": "code",
   "execution_count": 19,
   "metadata": {},
   "outputs": [
    {
     "name": "stdout",
     "output_type": "stream",
     "text": [
      "c:\\Users\\human\\anaconda3;C:\\Users\\human\\anaconda3;C:\\Users\\human\\anaconda3\\Library\\mingw-w64\\bin;C:\\Users\\human\\anaconda3\\Library\\usr\\bin;C:\\Users\\human\\anaconda3\\Library\\bin;C:\\Users\\human\\anaconda3\\Scripts;C:\\Users\\human\\anaconda3\\bin;C:\\Users\\human\\anaconda3\\condabin;C:\\Program\n",
      "Files\n",
      "(x86)\\Common\n",
      "Files\\Oracle\\Java\\javapath;C:\\oraclexe\\app\\oracle\\product\\11.2.0\\server\\bin;C:\\WINDOWS\\system32;C:\\WINDOWS;C:\\WINDOWS\\System32\\Wbem;C:\\WINDOWS\\System32\\WindowsPowerShell\\v1.0;C:\\WINDOWS\\System32\\OpenSSH;C:\\Program\n",
      "Files\\Java\\jdk1.8.0_202\\bin;C:\\Program\n",
      "Files\\Bandizip;C:\\Program\n",
      "Files\\Git\\cmd;C:\\Program\n",
      "Files\\Java\\jdk1.8.0_202\\bin;C:\\Users\\human\\anaconda3;C:\\Users\\human\\anaconda3\\Library\\mingw-w64\\bin;C:\\Users\\human\\anaconda3\\Library\\usr\\bin;C:\\Users\\human\\anaconda3\\Library\\bin;C:\\Users\\human\\anaconda3\\Scripts;C:\\Users\\human\\AppData\\Local\\Microsoft\\WindowsApps;C:\\Users\\human\\AppData\\Local\\Programs\\Microsoft\n",
      "VS\n",
      "Code\\bin\n"
     ]
    }
   ],
   "source": [
    "# 경로상에 있는 PATH 확인\n",
    "paths = os.environ['PATH']\n",
    "for path in paths.split():\n",
    "    print(path)"
   ]
  },
  {
   "cell_type": "code",
   "execution_count": 20,
   "metadata": {},
   "outputs": [
    {
     "name": "stdout",
     "output_type": "stream",
     "text": [
      "\n",
      "Path : C:/Temp\n",
      "\n",
      "\n",
      " file : Hello.class\n",
      "\n",
      "33206\n",
      "5348024557690109\n",
      "506552450\n",
      "1\n",
      "0\n",
      "0\n",
      "416\n",
      "Tue Jun 20 16:52:30 2023\n",
      "Wed Jun 21 15:48:28 2023\n",
      "Tue Jun 20 16:48:54 2023\n",
      "\n",
      " file : Hello.java\n",
      "\n",
      "33206\n",
      "8162774324887332\n",
      "506552450\n",
      "1\n",
      "0\n",
      "0\n",
      "107\n",
      "Tue Jun 20 16:52:13 2023\n",
      "Wed Jun 21 15:48:28 2023\n",
      "Tue Jun 20 16:37:48 2023\n"
     ]
    }
   ],
   "source": [
    "import time\n",
    "from tkinter import filedialog\n",
    "def b(c):\n",
    "    (mode, ino, dev, nlink, uid, gid, size, atime, mtime, ctime)=os.stat(c)\n",
    "    print(mode)\n",
    "    print(ino)\n",
    "    print(dev)\n",
    "    print(nlink)\n",
    "    print(uid)\n",
    "    print(gid)\n",
    "    print(size)\n",
    "    modifiedTime = time.ctime(mtime)\n",
    "    accessTime = time.ctime(atime)\n",
    "    createdTime = time.ctime(ctime)\n",
    "    print(modifiedTime)\n",
    "    print(accessTime)\n",
    "    print(createdTime)\n",
    "a = filedialog.askdirectory()\n",
    "for (path, dirs, files) in os.walk(a):\n",
    "    print (\"\\nPath : \"+path+\"\\n\")\n",
    "    for file in files:\n",
    "        print(\"\\n file : \"+file+\"\\n\")\n",
    "        c = os.path.join(path, file)\n",
    "        b(c)"
   ]
  },
  {
   "cell_type": "code",
   "execution_count": null,
   "metadata": {},
   "outputs": [],
   "source": []
  }
 ],
 "metadata": {
  "kernelspec": {
   "display_name": "base",
   "language": "python",
   "name": "python3"
  },
  "language_info": {
   "codemirror_mode": {
    "name": "ipython",
    "version": 3
   },
   "file_extension": ".py",
   "mimetype": "text/x-python",
   "name": "python",
   "nbconvert_exporter": "python",
   "pygments_lexer": "ipython3",
   "version": "3.11.4"
  },
  "orig_nbformat": 4
 },
 "nbformat": 4,
 "nbformat_minor": 2
}
