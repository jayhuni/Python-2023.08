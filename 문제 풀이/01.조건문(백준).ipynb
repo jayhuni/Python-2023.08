{
 "cells": [
  {
   "cell_type": "code",
   "execution_count": 1,
   "metadata": {},
   "outputs": [
    {
     "ename": "ValueError",
     "evalue": "not enough values to unpack (expected 2, got 1)",
     "output_type": "error",
     "traceback": [
      "\u001b[1;31m---------------------------------------------------------------------------\u001b[0m",
      "\u001b[1;31mValueError\u001b[0m                                Traceback (most recent call last)",
      "Cell \u001b[1;32mIn[1], line 1\u001b[0m\n\u001b[1;32m----> 1\u001b[0m x, y \u001b[39m=\u001b[39m \u001b[39mmap\u001b[39m(\u001b[39mfloat\u001b[39m, \u001b[39minput\u001b[39m(\u001b[39m'\u001b[39m\u001b[39m두개의 실수 입력> \u001b[39m\u001b[39m'\u001b[39m)\u001b[39m.\u001b[39msplit())\n\u001b[0;32m      2\u001b[0m \u001b[39mif\u001b[39;00m x \u001b[39m>\u001b[39m \u001b[39m0\u001b[39m \u001b[39mand\u001b[39;00m y \u001b[39m>\u001b[39m \u001b[39m0\u001b[39m:\n\u001b[0;32m      3\u001b[0m     \u001b[39mprint\u001b[39m(\u001b[39mf\u001b[39m\u001b[39m'\u001b[39m\u001b[39m(\u001b[39m\u001b[39m{\u001b[39;00mx\u001b[39m}\u001b[39;00m\u001b[39m,\u001b[39m\u001b[39m{\u001b[39;00my\u001b[39m}\u001b[39;00m\u001b[39m): Quadrant I\u001b[39m\u001b[39m'\u001b[39m)\n",
      "\u001b[1;31mValueError\u001b[0m: not enough values to unpack (expected 2, got 1)"
     ]
    }
   ],
   "source": [
    "x, y = map(float, input('두개의 실수 입력> ').split())\n",
    "if x > 0 and y > 0:\n",
    "    print(f'({x},{y}): Quadrant I')\n",
    "elif x < 0. and y > 0.:\n",
    "    print(f'({x},{y}): Quadrant II')\n",
    "elif x < 0. and y < 0.:\n",
    "    print(f'({x},{y}): Quadrant III')\n",
    "elif x > 0. and y < 0.:\n",
    "    print(f'({x},{y}): Quadrant IV')\n",
    "else:\n",
    "    print('잘못된 좌표')"
   ]
  },
  {
   "cell_type": "code",
   "execution_count": 2,
   "metadata": {},
   "outputs": [
    {
     "name": "stdout",
     "output_type": "stream",
     "text": [
      "23:45\n"
     ]
    }
   ],
   "source": [
    "hour, minute = map(int, input('시 분 입력> ').split())\n",
    "if minute >= 45:\n",
    "    new_hour = hour\n",
    "    new_minute = minute - 45\n",
    "else:\n",
    "    if hour == 0:\n",
    "        new_hour = 23\n",
    "    else:\n",
    "        new_hour = hour - 1\n",
    "    new_minute = minute + 60 -45\n",
    "print(f'{new_hour:02d}:{new_minute:02d}')"
   ]
  },
  {
   "cell_type": "code",
   "execution_count": 5,
   "metadata": {},
   "outputs": [
    {
     "name": "stdout",
     "output_type": "stream",
     "text": [
      "01:30\n"
     ]
    }
   ],
   "source": [
    "hour, minute, cook_time = map(int, input('시 분 조리시간 입력> ').split())\n",
    "cook_hour, cook_minute = divmod( minute + cook_time, 60)\n",
    "if minute + cook_minute >= 60:\n",
    "    new_hour = (hour + cook_hour + 1) % 24\n",
    "    new_minute = minute + cook_time - 60\n",
    "else:\n",
    "    new_hour = (hour + cook_hour) % 24\n",
    "    new_minute = minute + cook_minute\n",
    "print(f'{new_hour:02d}:{new_minute:02d}')"
   ]
  },
  {
   "cell_type": "code",
   "execution_count": 6,
   "metadata": {},
   "outputs": [
    {
     "name": "stdout",
     "output_type": "stream",
     "text": [
      "13000\n"
     ]
    }
   ],
   "source": [
    "dice1, dice2, dice3 = map(int, input().split())\n",
    "if dice1 == dice2 == dice3:\n",
    "    prize = 10000 + dice1 * 1000\n",
    "elif dice1 == dice2 or dice1 == dice3:\n",
    "    prize = 10000 + dice1 * 100\n",
    "elif dice2 == dice3:\n",
    "    prize = 10000 + dice2 * 100\n",
    "else:\n",
    "    max_val = max(list[dice1, dice2, dice3])\n",
    "    priz = max_val * 100\n",
    "print(prize)"
   ]
  },
  {
   "cell_type": "code",
   "execution_count": 7,
   "metadata": {},
   "outputs": [
    {
     "name": "stdout",
     "output_type": "stream",
     "text": [
      "5\n"
     ]
    }
   ],
   "source": [
    "# 세개의 값에서 최대값을 찾는 문제\n",
    "a, b, c = 3, 5, 2\n",
    "if a > b and a > c:\n",
    "    print(a)\n",
    "if b > a and b > c:\n",
    "    print(b)\n",
    "if c > a and c > b:\n",
    "    print(c)"
   ]
  },
  {
   "cell_type": "code",
   "execution_count": null,
   "metadata": {},
   "outputs": [],
   "source": []
  }
 ],
 "metadata": {
  "kernelspec": {
   "display_name": "base",
   "language": "python",
   "name": "python3"
  },
  "language_info": {
   "codemirror_mode": {
    "name": "ipython",
    "version": 3
   },
   "file_extension": ".py",
   "mimetype": "text/x-python",
   "name": "python",
   "nbconvert_exporter": "python",
   "pygments_lexer": "ipython3",
   "version": "3.11.4"
  },
  "orig_nbformat": 4
 },
 "nbformat": 4,
 "nbformat_minor": 2
}
