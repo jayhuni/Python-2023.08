{
 "cells": [
  {
   "cell_type": "markdown",
   "metadata": {},
   "source": [
    "백준도장\n",
    "\n",
    "1. 입출력과 사칙연산 - \t#2588\n",
    "3. 반복문 -\t\t#25304\n",
    "4. 1차원 - \t\t#2562\n",
    "5. 문자열 - \t\t#2675, #10809, #2908\n",
    "6. 심화 - \t\t#3003, #2444, #1157\n",
    "7. 2차원 - \t\t#2738"
   ]
  },
  {
   "cell_type": "markdown",
   "metadata": {},
   "source": [
    "2588번"
   ]
  },
  {
   "cell_type": "code",
   "execution_count": 8,
   "metadata": {},
   "outputs": [
    {
     "name": "stdout",
     "output_type": "stream",
     "text": [
      "2360\n",
      "3776\n",
      "1416\n",
      "181720\n"
     ]
    }
   ],
   "source": [
    "a = int(input())\n",
    "b = input()\n",
    "print(f'{(a*int(b[2]))}\\n{(a*int(b[1]))}\\n{(a*int(b[0]))}\\n{a*int(b)}')"
   ]
  },
  {
   "cell_type": "markdown",
   "metadata": {},
   "source": [
    "25304번"
   ]
  },
  {
   "cell_type": "code",
   "execution_count": 11,
   "metadata": {},
   "outputs": [
    {
     "name": "stdout",
     "output_type": "stream",
     "text": [
      "yes\n"
     ]
    }
   ],
   "source": [
    "x = int(input())\n",
    "n = int(input())\n",
    "sum = 0\n",
    "\n",
    "for i in range(1, n+1):\n",
    "    a,b = map(int, input().split())\n",
    "    sum += a * b\n",
    "if sum == x:\n",
    "    print('yes')\n",
    "else:\n",
    "    print('no')"
   ]
  },
  {
   "cell_type": "markdown",
   "metadata": {},
   "source": [
    "2562번"
   ]
  },
  {
   "cell_type": "code",
   "execution_count": 34,
   "metadata": {},
   "outputs": [
    {
     "name": "stdout",
     "output_type": "stream",
     "text": [
      "85\n",
      "8\n"
     ]
    }
   ],
   "source": [
    "numbers = []\n",
    "for _ in range(9):\n",
    "    i = int(input())\n",
    "    numbers.append(i)\n",
    "    \n",
    "print(max(numbers))\n",
    "print(numbers.index(max(numbers))+1)"
   ]
  },
  {
   "cell_type": "markdown",
   "metadata": {},
   "source": [
    "2675번"
   ]
  },
  {
   "cell_type": "code",
   "execution_count": 48,
   "metadata": {},
   "outputs": [
    {
     "name": "stdout",
     "output_type": "stream",
     "text": [
      "AAABBBCCC/////HHHHHTTTTTPPPPP"
     ]
    }
   ],
   "source": [
    "s = int(input())\n",
    "for _ in range(s):\n",
    "    count, word = input().split()\n",
    "    for r in word:\n",
    "        print(r*int(count), end='')"
   ]
  },
  {
   "cell_type": "markdown",
   "metadata": {},
   "source": [
    "2444번"
   ]
  },
  {
   "cell_type": "code",
   "execution_count": 45,
   "metadata": {},
   "outputs": [
    {
     "name": "stdout",
     "output_type": "stream",
     "text": [
      "    *\n",
      "   ***\n",
      "  *****\n",
      " *******\n",
      "*********\n"
     ]
    }
   ],
   "source": [
    "a = int(input())\n",
    "for i in range(a):\n",
    "  for j in range(a-i-1):\n",
    "    print(' ',end='')\n",
    "  for j in range(2*i+1):\n",
    "    print('*',end='')\n",
    "  for j in range(2*a-1):\n",
    "    print(' ',end='')\n",
    "  for j in range()\n",
    "\n",
    "  print()"
   ]
  },
  {
   "cell_type": "code",
   "execution_count": null,
   "metadata": {},
   "outputs": [],
   "source": []
  }
 ],
 "metadata": {
  "kernelspec": {
   "display_name": "base",
   "language": "python",
   "name": "python3"
  },
  "language_info": {
   "codemirror_mode": {
    "name": "ipython",
    "version": 3
   },
   "file_extension": ".py",
   "mimetype": "text/x-python",
   "name": "python",
   "nbconvert_exporter": "python",
   "pygments_lexer": "ipython3",
   "version": "3.11.4"
  },
  "orig_nbformat": 4
 },
 "nbformat": 4,
 "nbformat_minor": 2
}
