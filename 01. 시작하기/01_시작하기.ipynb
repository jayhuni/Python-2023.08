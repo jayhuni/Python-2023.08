{
  "cells": [
    {
      "cell_type": "markdown",
      "metadata": {
        "id": "s0OHcN5YjRR8"
      },
      "source": [
        "# 파이썬 시작하기"
      ]
    },
    {
      "cell_type": "code",
      "execution_count": 1,
      "metadata": {
        "colab": {
          "base_uri": "https://localhost:8080/"
        },
        "id": "1snKhC_G9WQv",
        "outputId": "5efb0a08-4804-4ca9-e121-c190ea7c862b"
      },
      "outputs": [
        {
          "name": "stdout",
          "output_type": "stream",
          "text": [
            "Python 3.11.4\n"
          ]
        }
      ],
      "source": [
        "# 2023년 8월 현재 Colab에 설치되어 있는 파이썬 버전 확인\n",
        "!python --version"
      ]
    },
    {
      "cell_type": "markdown",
      "metadata": {
        "id": "SzcDs5CAj1zk"
      },
      "source": [
        "### 1. 세미콜론(;)"
      ]
    },
    {
      "cell_type": "code",
      "execution_count": 2,
      "metadata": {
        "colab": {
          "base_uri": "https://localhost:8080/"
        },
        "id": "YSZ7x-tDkOkj",
        "outputId": "b69a202e-621f-4390-db43-efbcee5154c9"
      },
      "outputs": [
        {
          "name": "stdout",
          "output_type": "stream",
          "text": [
            "Hello\n"
          ]
        }
      ],
      "source": [
        "# 문장끝에 세미콜론(;)을 붙이지 않는다.\n",
        "print('Hello')"
      ]
    },
    {
      "cell_type": "code",
      "execution_count": 3,
      "metadata": {
        "colab": {
          "base_uri": "https://localhost:8080/"
        },
        "id": "6w8_xu0KkWyc",
        "outputId": "75748ffa-3a30-4551-84ac-bd588308d884"
      },
      "outputs": [
        {
          "name": "stdout",
          "output_type": "stream",
          "text": [
            "Hello\n",
            "World\n"
          ]
        }
      ],
      "source": [
        "# 한 줄에 여러 문장을 사용할 경우에는 세미콜론을 사용함\n",
        "print('Hello'); print('World')"
      ]
    },
    {
      "cell_type": "markdown",
      "metadata": {
        "id": "QmM72_HDk3Us"
      },
      "source": [
        "# 2. 주석(Comment)"
      ]
    },
    {
      "cell_type": "code",
      "execution_count": 4,
      "metadata": {
        "colab": {
          "base_uri": "https://localhost:8080/"
        },
        "id": "nYDh17m-k8k7",
        "outputId": "c195ea53-2cad-405e-e19c-b4224b92b21f"
      },
      "outputs": [
        {
          "name": "stdout",
          "output_type": "stream",
          "text": [
            "Hello\n"
          ]
        }
      ],
      "source": [
        "# 한 줄짜리 주석\n",
        "print('Hello')  #문장 뒤에 사용하는 주석"
      ]
    },
    {
      "cell_type": "code",
      "execution_count": 5,
      "metadata": {
        "colab": {
          "base_uri": "https://localhost:8080/",
          "height": 35
        },
        "id": "Kznj3lmGlJe4",
        "outputId": "ec61835f-c345-4800-cfbe-a85b8c5af8ca"
      },
      "outputs": [
        {
          "data": {
            "text/plain": [
              "'\\n원래는 멀티 라인 문자열로 사용됨\\n주석으로도 사용됨\\n'"
            ]
          },
          "execution_count": 5,
          "metadata": {},
          "output_type": "execute_result"
        }
      ],
      "source": [
        "# 여러줄의 주석\n",
        "# 여러줄의 주석\n",
        "'''\n",
        "원래는 멀티 라인 문자열로 사용됨\n",
        "주석으로도 사용됨\n",
        "'''"
      ]
    },
    {
      "cell_type": "code",
      "execution_count": 6,
      "metadata": {
        "id": "wD64x0yllmZN"
      },
      "outputs": [],
      "source": [
        "# \"\"\" \"\"\" 도 ''' ''' 과 동일하게 사용됨"
      ]
    },
    {
      "cell_type": "markdown",
      "metadata": {
        "id": "Fo9m_bNwmQEM"
      },
      "source": [
        "### 3. 들여쓰기(Indentation)"
      ]
    },
    {
      "cell_type": "code",
      "execution_count": 7,
      "metadata": {
        "colab": {
          "base_uri": "https://localhost:8080/"
        },
        "id": "yUze6aLslwij",
        "outputId": "b7d18b24-7114-46cb-8496-f5d0cef35545"
      },
      "outputs": [
        {
          "name": "stdout",
          "output_type": "stream",
          "text": [
            "홀수\n"
          ]
        }
      ],
      "source": [
        "num = 3\n",
        "if num % 2 == 1:\n",
        "  print('홀수')\n"
      ]
    },
    {
      "cell_type": "code",
      "execution_count": 8,
      "metadata": {
        "colab": {
          "base_uri": "https://localhost:8080/"
        },
        "id": "Nke1YK_znKJk",
        "outputId": "4e158fa8-f31f-4fd8-95d0-153a85aeba85"
      },
      "outputs": [
        {
          "name": "stdout",
          "output_type": "stream",
          "text": [
            "for loop이 돌 때마다 찍힘: 1\n",
            "for loop이 돌 때마다 찍힘: 3\n",
            "for loop이 돌 때마다 찍힘: 6\n",
            "for loop이 돌 때마다 찍힘: 10\n",
            "for loop이 돌 때마다 찍힘: 15\n",
            "for loop이 돌 때마다 찍힘: 21\n",
            "for loop이 돌 때마다 찍힘: 28\n",
            "for loop이 돌 때마다 찍힘: 36\n",
            "for loop이 돌 때마다 찍힘: 45\n",
            "for loop이 돌 때마다 찍힘: 55\n",
            "for loop이 끝난 후 찍힘: 55\n"
          ]
        }
      ],
      "source": [
        "sum = 0\n",
        "for i in range(1, 11):\n",
        "  sum += i\n",
        "  print('for loop이 돌 때마다 찍힘:',sum)\n",
        "print('for loop이 끝난 후 찍힘:', sum)"
      ]
    },
    {
      "cell_type": "markdown",
      "metadata": {
        "id": "8DdFqvVvsC1E"
      },
      "source": [
        "### 4. 코드 블록"
      ]
    },
    {
      "cell_type": "code",
      "execution_count": 9,
      "metadata": {
        "colab": {
          "base_uri": "https://localhost:8080/"
        },
        "id": "z8fKv_1ysHR8",
        "outputId": "262f7256-38bd-4929-ade8-69a39bd3a19a"
      },
      "outputs": [
        {
          "name": "stdout",
          "output_type": "stream",
          "text": [
            "55\n",
            "홀수 입니다.\n"
          ]
        }
      ],
      "source": [
        "# 콜론(:)과 이후 들려쓰기로 코드 블록이 결정됨\n",
        "if sum % 2 == 1:\n",
        "  print(sum)\n",
        "  print('홀수 입니다.')"
      ]
    },
    {
      "cell_type": "code",
      "execution_count": null,
      "metadata": {
        "id": "l9h0fp6GrFRV"
      },
      "outputs": [],
      "source": []
    }
  ],
  "metadata": {
    "colab": {
      "provenance": []
    },
    "kernelspec": {
      "display_name": "Python 3",
      "name": "python3"
    },
    "language_info": {
      "codemirror_mode": {
        "name": "ipython",
        "version": 3
      },
      "file_extension": ".py",
      "mimetype": "text/x-python",
      "name": "python",
      "nbconvert_exporter": "python",
      "pygments_lexer": "ipython3",
      "version": "3.11.4"
    }
  },
  "nbformat": 4,
  "nbformat_minor": 0
}
