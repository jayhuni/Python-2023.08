{
  "nbformat": 4,
  "nbformat_minor": 0,
  "metadata": {
    "colab": {
      "provenance": []
    },
    "kernelspec": {
      "name": "python3",
      "display_name": "Python 3"
    },
    "language_info": {
      "name": "python"
    }
  },
  "cells": [
    {
      "cell_type": "markdown",
      "source": [
        "# 파이썬 시작하기"
      ],
      "metadata": {
        "id": "s0OHcN5YjRR8"
      }
    },
    {
      "cell_type": "markdown",
      "source": [
        "### 1. 세미콜론(;)"
      ],
      "metadata": {
        "id": "SzcDs5CAj1zk"
      }
    },
    {
      "cell_type": "code",
      "source": [
        "# 문장끝에 세미콜론(;)을 붙이지 않는다.\n",
        "print('Hello')"
      ],
      "metadata": {
        "colab": {
          "base_uri": "https://localhost:8080/"
        },
        "id": "YSZ7x-tDkOkj",
        "outputId": "b69a202e-621f-4390-db43-efbcee5154c9"
      },
      "execution_count": 1,
      "outputs": [
        {
          "output_type": "stream",
          "name": "stdout",
          "text": [
            "Hello\n"
          ]
        }
      ]
    },
    {
      "cell_type": "code",
      "source": [
        "# 한 줄에 여러 문장을 사용할 경우에는 세미콜론을 사용함\n",
        "print('Hello'); print('World')"
      ],
      "metadata": {
        "colab": {
          "base_uri": "https://localhost:8080/"
        },
        "id": "6w8_xu0KkWyc",
        "outputId": "75748ffa-3a30-4551-84ac-bd588308d884"
      },
      "execution_count": 2,
      "outputs": [
        {
          "output_type": "stream",
          "name": "stdout",
          "text": [
            "Hello\n",
            "World\n"
          ]
        }
      ]
    },
    {
      "cell_type": "markdown",
      "source": [
        "# 2. 주석(Comment)"
      ],
      "metadata": {
        "id": "QmM72_HDk3Us"
      }
    },
    {
      "cell_type": "code",
      "source": [
        "# 한 줄짜리 주석\n",
        "print('Hello')  #문장 뒤에 사용하는 주석"
      ],
      "metadata": {
        "colab": {
          "base_uri": "https://localhost:8080/"
        },
        "id": "nYDh17m-k8k7",
        "outputId": "c195ea53-2cad-405e-e19c-b4224b92b21f"
      },
      "execution_count": 3,
      "outputs": [
        {
          "output_type": "stream",
          "name": "stdout",
          "text": [
            "Hello\n"
          ]
        }
      ]
    },
    {
      "cell_type": "code",
      "source": [
        "# 여러줄의 주석\n",
        "# 여러줄의 주석\n",
        "'''\n",
        "원래는 멀티 라인 문자열로 사용됨\n",
        "주석으로도 사용됨\n",
        "'''"
      ],
      "metadata": {
        "colab": {
          "base_uri": "https://localhost:8080/",
          "height": 35
        },
        "id": "Kznj3lmGlJe4",
        "outputId": "ec61835f-c345-4800-cfbe-a85b8c5af8ca"
      },
      "execution_count": 4,
      "outputs": [
        {
          "output_type": "execute_result",
          "data": {
            "text/plain": [
              "'\\n원래는 멀티 라인 문자열로 사용됨\\n주석으로도 사용됨\\n'"
            ],
            "application/vnd.google.colaboratory.intrinsic+json": {
              "type": "string"
            }
          },
          "metadata": {},
          "execution_count": 4
        }
      ]
    },
    {
      "cell_type": "code",
      "source": [
        "# \"\"\" \"\"\" 도 ''' ''' 과 동일하게 사용됨"
      ],
      "metadata": {
        "id": "wD64x0yllmZN"
      },
      "execution_count": 5,
      "outputs": []
    },
    {
      "cell_type": "markdown",
      "source": [
        "### 3. 들여쓰기(Indentation)"
      ],
      "metadata": {
        "id": "Fo9m_bNwmQEM"
      }
    },
    {
      "cell_type": "code",
      "source": [
        "num = 3\n",
        "if num % 2 == 1:\n",
        "  print('홀수')\n"
      ],
      "metadata": {
        "colab": {
          "base_uri": "https://localhost:8080/"
        },
        "id": "yUze6aLslwij",
        "outputId": "b7d18b24-7114-46cb-8496-f5d0cef35545"
      },
      "execution_count": 6,
      "outputs": [
        {
          "output_type": "stream",
          "name": "stdout",
          "text": [
            "홀수\n"
          ]
        }
      ]
    },
    {
      "cell_type": "code",
      "source": [
        "sum = 0\n",
        "for i in range(1, 11):\n",
        "  sum += i\n",
        "  print('for loop이 돌 때마다 찍힘:',sum)\n",
        "print('for loop이 끝난 후 찍힘:', sum)"
      ],
      "metadata": {
        "colab": {
          "base_uri": "https://localhost:8080/"
        },
        "id": "Nke1YK_znKJk",
        "outputId": "4e158fa8-f31f-4fd8-95d0-153a85aeba85"
      },
      "execution_count": 10,
      "outputs": [
        {
          "output_type": "stream",
          "name": "stdout",
          "text": [
            "for loop이 돌 때마다 찍힘: 1\n",
            "for loop이 돌 때마다 찍힘: 3\n",
            "for loop이 돌 때마다 찍힘: 6\n",
            "for loop이 돌 때마다 찍힘: 10\n",
            "for loop이 돌 때마다 찍힘: 15\n",
            "for loop이 돌 때마다 찍힘: 21\n",
            "for loop이 돌 때마다 찍힘: 28\n",
            "for loop이 돌 때마다 찍힘: 36\n",
            "for loop이 돌 때마다 찍힘: 45\n",
            "for loop이 돌 때마다 찍힘: 55\n",
            "for loop이 끝난 후 찍힘: 55\n"
          ]
        }
      ]
    },
    {
      "cell_type": "markdown",
      "source": [
        "### 4. 코드 블록"
      ],
      "metadata": {
        "id": "8DdFqvVvsC1E"
      }
    },
    {
      "cell_type": "code",
      "source": [
        "# 콜론(:)과 이후 들려쓰기로 코드 블록이 결정됨\n",
        "if sum % 2 == 1:\n",
        "  print(sum)\n",
        "  print('홀수 입니다.')"
      ],
      "metadata": {
        "colab": {
          "base_uri": "https://localhost:8080/"
        },
        "id": "z8fKv_1ysHR8",
        "outputId": "262f7256-38bd-4929-ade8-69a39bd3a19a"
      },
      "execution_count": 12,
      "outputs": [
        {
          "output_type": "stream",
          "name": "stdout",
          "text": [
            "55\n",
            "홀수 입니다.\n"
          ]
        }
      ]
    },
    {
      "cell_type": "code",
      "source": [],
      "metadata": {
        "id": "l9h0fp6GrFRV"
      },
      "execution_count": null,
      "outputs": []
    }
  ]
}